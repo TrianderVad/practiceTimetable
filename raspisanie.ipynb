{
 "cells": [
  {
   "cell_type": "markdown",
   "id": "3b47282e",
   "metadata": {},
   "source": [
    "### Импорты\n"
   ]
  },
  {
   "cell_type": "code",
   "execution_count": 67,
   "id": "234c10ec",
   "metadata": {},
   "outputs": [],
   "source": [
    "import pandas as pd\n",
    "import copy"
   ]
  },
  {
   "cell_type": "markdown",
   "id": "97484766",
   "metadata": {},
   "source": [
    "### Класс автобуса"
   ]
  },
  {
   "cell_type": "code",
   "execution_count": 69,
   "id": "444d7221",
   "metadata": {},
   "outputs": [],
   "source": [
    "class Bus():\n",
    "    def __init__(self,busID, free = True, direction = True):\n",
    "        self.busID = busID\n",
    "        self.free = free\n",
    "        #true - forward, false - back\n",
    "        self.direction = direction\n",
    "        self.timefree = 21 #&???\n",
    "\n",
    "    def change_free(self):\n",
    "        self.free = not(self.free)\n",
    "\n",
    "    def change_dir(self):\n",
    "        self.direction = not(self.direction)\n",
    "        \n",
    "    def set_time(self, time):\n",
    "        self.timefree = time\n",
    "        \n",
    "    \n",
    "\n",
    "\n"
   ]
  },
  {
   "cell_type": "code",
   "execution_count": 70,
   "id": "e08433d2",
   "metadata": {},
   "outputs": [],
   "source": [
    "class Station():\n",
    "    def __init__(self, timestart, timestop, direction):\n",
    "        self.timestart = timestart\n",
    "        self.timestop = timestop\n",
    "        self.direction = direction"
   ]
  },
  {
   "cell_type": "markdown",
   "id": "42115a80",
   "metadata": {},
   "source": [
    "### Класс расписания\n"
   ]
  },
  {
   "cell_type": "code",
   "execution_count": null,
   "id": "576b18b1",
   "metadata": {},
   "outputs": [],
   "source": [
    "'''class Timetable():\n",
    "    def __init__(self):\n",
    "'''        "
   ]
  },
  {
   "cell_type": "code",
   "execution_count": 55,
   "id": "70ae77f4",
   "metadata": {},
   "outputs": [
    {
     "name": "stdout",
     "output_type": "stream",
     "text": [
      "     time  countf      delayf  countb      delayb  sumf  onef  sumb  oneb\n",
      "0   03:00       0  нет рейсов       0  нет рейсов  0.00  0.00  0.00  0.00\n",
      "1   03:30       0  нет рейсов       0  нет рейсов  0.32  0.32  0.30  0.30\n",
      "2   04:00       0  нет рейсов       0  нет рейсов  0.60  0.28  0.68  0.38\n",
      "3   04:30       0  нет рейсов       0  нет рейсов  1.17  0.57  1.12  0.44\n",
      "4   05:00       1          20       0  нет рейсов  1.68  0.51  1.50  0.38\n",
      "5   05:30       2          20       1          20  2.03  0.35  1.77  0.27\n",
      "6   06:00       3           9       3          20  2.43  0.41  2.03  0.26\n",
      "7   06:30       4           9       3           9  3.96  1.53  2.39  0.36\n",
      "8   07:00       3           8       3           9  4.32  0.36  3.34  0.95\n",
      "9   07:30       4           8       4           8  4.84  0.51  3.67  0.33\n",
      "10  08:00       4           8       4           8  5.22  0.38  4.07  0.40\n",
      "11  08:30       4           8       4           8  5.46  0.24  4.50  0.43\n",
      "12  09:00       3           8       3           8  6.08  0.62  5.08  0.58\n",
      "13  09:30       2          15       4           8  6.48  0.39  5.49  0.41\n",
      "14  10:00       2          15       2          15   NaN   NaN  5.63  0.14\n",
      "15  10:30       2          15       2          15   NaN   NaN   NaN   NaN\n",
      "16  11:00       3          10       2          15   NaN   NaN   NaN   NaN\n",
      "17  11:30       3          10       3          10   NaN   NaN   NaN   NaN\n",
      "18  12:00       3          10       3          10   NaN   NaN   NaN   NaN\n",
      "19  12:30       3          10       3          10   NaN   NaN   NaN   NaN\n",
      "20  13:00       3          10       3          10   NaN   NaN   NaN   NaN\n",
      "21  13:30       3          10       3          10   NaN   NaN   NaN   NaN\n",
      "22  14:00       3          10       3          10   NaN   NaN   NaN   NaN\n",
      "23  14:30       3          10       3          10   NaN   NaN   NaN   NaN\n",
      "24  15:00       3          10       3          10   NaN   NaN   NaN   NaN\n",
      "25  15:30       3          10       3          10   NaN   NaN   NaN   NaN\n",
      "26  16:00       3          10       3          10   NaN   NaN   NaN   NaN\n",
      "27  16:30       3          10       3          10   NaN   NaN   NaN   NaN\n",
      "28  17:00       4           8       3          10   NaN   NaN   NaN   NaN\n",
      "29  17:30       4           8       4           8   NaN   NaN   NaN   NaN\n",
      "30  18:00       4           8       4           8   NaN   NaN   NaN   NaN\n",
      "31  18:30       3           8       3           8   NaN   NaN   NaN   NaN\n",
      "32  19:00       4           8       4           8   NaN   NaN   NaN   NaN\n",
      "33  19:30       4           8       4           8   NaN   NaN   NaN   NaN\n",
      "34  20:00       2          12       3           8   NaN   NaN   NaN   NaN\n",
      "35  20:30       3          12       3          12   NaN   NaN   NaN   NaN\n",
      "36  21:00       2          12       2          12   NaN   NaN   NaN   NaN\n",
      "37  21:30       2          16       2          12   NaN   NaN   NaN   NaN\n",
      "38  22:00       2          16       2          16   NaN   NaN   NaN   NaN\n",
      "39  22:30       2          16       2          16   NaN   NaN   NaN   NaN\n",
      "40  23:00       1          20       2          16   NaN   NaN   NaN   NaN\n",
      "41  23:30       2          20       1          20   NaN   NaN   NaN   NaN\n",
      "42  00:00       1          20       2          20   NaN   NaN   NaN   NaN\n",
      "43  00:30       0  нет рейсов       1          20   NaN   NaN   NaN   NaN\n",
      "44  01:00       0  нет рейсов       0  нет рейсов   NaN   NaN   NaN   NaN\n",
      "45  01:30       0  нет рейсов       0  нет рейсов   NaN   NaN   NaN   NaN\n",
      "46  02:00       0  нет рейсов       0  нет рейсов   NaN   NaN   NaN   NaN\n",
      "47  02:30       0  нет рейсов       0  нет рейсов   NaN   NaN   NaN   NaN\n"
     ]
    }
   ],
   "source": [
    "df_timetable = pd.read_excel('test.xlsx')\n",
    "print(df_timetable.head(50))"
   ]
  },
  {
   "cell_type": "markdown",
   "id": "d1dd762b",
   "metadata": {},
   "source": [
    "### MainTest\n"
   ]
  },
  {
   "cell_type": "code",
   "execution_count": 64,
   "id": "8ed155ab",
   "metadata": {},
   "outputs": [
    {
     "name": "stdout",
     "output_type": "stream",
     "text": [
      "20.0 27.0 17.0 46.0\n"
     ]
    }
   ],
   "source": [
    "# Расчитаем среднее время проезда в обоих направлениях\n",
    "#Средняя скорость автобуса 19 км/ч\n",
    "avetimef = round(6.48/19*60, 2)\n",
    "avetimeb = 5.63/19*60\n",
    "avtfh = avetimef // 1\n",
    "avtfm = avetimef % 1 * 60  // 1\n",
    "avtbh = avetimeb // 1\n",
    "avtbm = avetimeb % 1 * 60  // 1\n",
    "print(avtfh, avtfm, avtbh, avtbm)"
   ]
  },
  {
   "cell_type": "code",
   "execution_count": 68,
   "id": "4aff224d",
   "metadata": {},
   "outputs": [
    {
     "name": "stdout",
     "output_type": "stream",
     "text": [
      "{1: [], 2: [], 3: [], 4: [], 5: [], 6: [], 7: [], 8: []}\n"
     ]
    }
   ],
   "source": [
    "dirtt = {}\n",
    "\n",
    "freebus = []\n",
    "busybus = []\n",
    "for i in range(8):\n",
    "    freebus.append(Bus(i+1))\n",
    "    dirtt[i+1] = []\n",
    "buspark = copy.copy(freebus)\n",
    "print(dirtt)"
   ]
  },
  {
   "cell_type": "code",
   "execution_count": 60,
   "id": "8cc13a9b",
   "metadata": {},
   "outputs": [
    {
     "name": "stdout",
     "output_type": "stream",
     "text": [
      "1900-01-01 03:20:27\n",
      "1900-01-01 03:50:27\n",
      "1900-01-01 04:20:27\n",
      "1900-01-01 04:50:27\n",
      "1900-01-01 05:20:27\n",
      "1900-01-01 05:50:27\n",
      "1900-01-01 06:20:27\n",
      "1900-01-01 06:50:27\n",
      "1900-01-01 07:20:27\n",
      "1900-01-01 07:50:27\n",
      "1900-01-01 08:20:27\n",
      "1900-01-01 08:50:27\n",
      "1900-01-01 09:20:27\n",
      "1900-01-01 09:50:27\n",
      "1900-01-01 10:20:27\n",
      "1900-01-01 10:50:27\n",
      "1900-01-01 11:20:27\n",
      "1900-01-01 11:50:27\n",
      "1900-01-01 12:20:27\n",
      "1900-01-01 12:50:27\n",
      "1900-01-01 13:20:27\n",
      "1900-01-01 13:50:27\n",
      "1900-01-01 14:20:27\n",
      "1900-01-01 14:50:27\n",
      "1900-01-01 15:20:27\n",
      "1900-01-01 15:50:27\n",
      "1900-01-01 16:20:27\n",
      "1900-01-01 16:50:27\n",
      "1900-01-01 17:20:27\n",
      "1900-01-01 17:50:27\n",
      "1900-01-01 18:20:27\n",
      "1900-01-01 18:50:27\n",
      "1900-01-01 19:20:27\n",
      "1900-01-01 19:50:27\n",
      "1900-01-01 20:20:27\n",
      "1900-01-01 20:50:27\n",
      "1900-01-01 21:20:27\n",
      "1900-01-01 21:50:27\n",
      "1900-01-01 22:20:27\n",
      "1900-01-01 22:50:27\n",
      "1900-01-01 23:20:27\n",
      "1900-01-01 23:50:27\n",
      "1900-01-01 00:20:27\n",
      "1900-01-01 00:50:27\n",
      "1900-01-01 01:20:27\n",
      "1900-01-01 01:50:27\n",
      "1900-01-01 02:20:27\n",
      "1900-01-01 02:50:27\n"
     ]
    }
   ],
   "source": [
    "\n",
    "\n",
    "for index, row in df_timetable.iterrows():\n",
    "    cbf = row[\"countf\"]\n",
    "    cbb = row[\"countb\"]\n",
    "    delf = row[\"delayf\"]\n",
    "    delb = row[\"delayb\"]\n",
    "    \n",
    "    for i in cbf:\n",
    "        for j in buspark:\n",
    "            if j.free:\n",
    "                 \n",
    "                \n",
    "        \n",
    "    #print(pd.to_datetime(row['time'], format='%H:%M') + pd.Timedelta(minutes = avtfh, seconds = avtfm))\n",
    "    #print(row[\"time\"] + avetimef)"
   ]
  },
  {
   "cell_type": "code",
   "execution_count": null,
   "id": "6d8e1ce0",
   "metadata": {},
   "outputs": [],
   "source": []
  }
 ],
 "metadata": {
  "kernelspec": {
   "display_name": "Python 3 (ipykernel)",
   "language": "python",
   "name": "python3"
  },
  "language_info": {
   "codemirror_mode": {
    "name": "ipython",
    "version": 3
   },
   "file_extension": ".py",
   "mimetype": "text/x-python",
   "name": "python",
   "nbconvert_exporter": "python",
   "pygments_lexer": "ipython3",
   "version": "3.10.0"
  }
 },
 "nbformat": 4,
 "nbformat_minor": 5
}
