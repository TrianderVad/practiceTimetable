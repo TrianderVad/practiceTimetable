{
 "cells": [
  {
   "cell_type": "markdown",
   "id": "3b47282e",
   "metadata": {},
   "source": [
    "### Импорты\n"
   ]
  },
  {
   "cell_type": "code",
   "execution_count": 1,
   "id": "234c10ec",
   "metadata": {},
   "outputs": [],
   "source": [
    "import pandas as pd\n",
    "import copy"
   ]
  },
  {
   "cell_type": "markdown",
   "id": "97484766",
   "metadata": {},
   "source": [
    "### Класс автобуса"
   ]
  },
  {
   "cell_type": "code",
   "execution_count": 2,
   "id": "444d7221",
   "metadata": {},
   "outputs": [],
   "source": [
    "class Bus():\n",
    "    def __init__(self,busID, free = True, direction = True):\n",
    "        self.busID = busID\n",
    "        self.free = free\n",
    "        #true - forward, false - back\n",
    "        #Прямо, Обратно, Свободный\n",
    "        self.direction = direction\n",
    "        self.first = False\n",
    "\n",
    "    def change_free(self):\n",
    "        self.free = not(self.free)\n",
    "\n",
    "    def change_dir(self):\n",
    "        self.direction = not(self.direction)\n",
    "        \n",
    "    def set_time(self, time):\n",
    "        self.timefree = time\n",
    "        \n",
    "    def first_start(self):\n",
    "        self.first = True\n",
    "        \n",
    "    \n",
    "\n",
    "\n"
   ]
  },
  {
   "cell_type": "code",
   "execution_count": 3,
   "id": "e08433d2",
   "metadata": {},
   "outputs": [],
   "source": [
    "class Station():\n",
    "    def __init__(self, timestart, timestop, direction):\n",
    "        self.timestart = timestart\n",
    "        self.timestop = timestop\n",
    "        self.direction = direction\n",
    "    def print_info(self):\n",
    "        start = self.timestart.strftime(\"%X\")\n",
    "        stop = self.timestop.strftime(\"%X\")\n",
    "        return start, stop, self.direction"
   ]
  },
  {
   "cell_type": "markdown",
   "id": "42115a80",
   "metadata": {},
   "source": [
    "### Подготовка\n"
   ]
  },
  {
   "cell_type": "code",
   "execution_count": 4,
   "id": "70ae77f4",
   "metadata": {},
   "outputs": [],
   "source": [
    "df_timetable = pd.read_excel('test.xlsx')\n"
   ]
  },
  {
   "cell_type": "code",
   "execution_count": 5,
   "id": "02f6bb83",
   "metadata": {},
   "outputs": [
    {
     "name": "stdout",
     "output_type": "stream",
     "text": [
      "0   1900-01-01 03:00:00\n",
      "1   1900-01-01 03:30:00\n",
      "2   1900-01-01 04:00:00\n",
      "3   1900-01-01 04:30:00\n",
      "4   1900-01-01 05:00:00\n",
      "Name: time_dt, dtype: datetime64[ns]\n"
     ]
    }
   ],
   "source": [
    "#Переведем время в datetime\n",
    "df_timetable[\"time_dt\"] = df_timetable[\"time\"].apply(lambda x: pd.to_datetime(x, format= \"%H:%M\"))\n",
    "print(df_timetable[\"time_dt\"].head(5))\n"
   ]
  },
  {
   "cell_type": "code",
   "execution_count": 6,
   "id": "2097e31e",
   "metadata": {},
   "outputs": [
    {
     "data": {
      "text/html": [
       "<div>\n",
       "<style scoped>\n",
       "    .dataframe tbody tr th:only-of-type {\n",
       "        vertical-align: middle;\n",
       "    }\n",
       "\n",
       "    .dataframe tbody tr th {\n",
       "        vertical-align: top;\n",
       "    }\n",
       "\n",
       "    .dataframe thead th {\n",
       "        text-align: right;\n",
       "    }\n",
       "</style>\n",
       "<table border=\"1\" class=\"dataframe\">\n",
       "  <thead>\n",
       "    <tr style=\"text-align: right;\">\n",
       "      <th></th>\n",
       "      <th>time</th>\n",
       "      <th>countf</th>\n",
       "      <th>delayf</th>\n",
       "      <th>countb</th>\n",
       "      <th>delayb</th>\n",
       "      <th>sumf</th>\n",
       "      <th>onef</th>\n",
       "      <th>sumb</th>\n",
       "      <th>oneb</th>\n",
       "      <th>time_dt</th>\n",
       "    </tr>\n",
       "  </thead>\n",
       "  <tbody>\n",
       "    <tr>\n",
       "      <th>0</th>\n",
       "      <td>03:00</td>\n",
       "      <td>0</td>\n",
       "      <td>0</td>\n",
       "      <td>0</td>\n",
       "      <td>0</td>\n",
       "      <td>0.00</td>\n",
       "      <td>0.00</td>\n",
       "      <td>0.0</td>\n",
       "      <td>0.0</td>\n",
       "      <td>1900-01-01 03:00:00</td>\n",
       "    </tr>\n",
       "    <tr>\n",
       "      <th>1</th>\n",
       "      <td>03:30</td>\n",
       "      <td>0</td>\n",
       "      <td>0</td>\n",
       "      <td>0</td>\n",
       "      <td>0</td>\n",
       "      <td>0.32</td>\n",
       "      <td>0.32</td>\n",
       "      <td>0.3</td>\n",
       "      <td>0.3</td>\n",
       "      <td>1900-01-01 03:30:00</td>\n",
       "    </tr>\n",
       "  </tbody>\n",
       "</table>\n",
       "</div>"
      ],
      "text/plain": [
       "    time  countf delayf  countb delayb  sumf  onef  sumb  oneb  \\\n",
       "0  03:00       0      0       0      0  0.00  0.00   0.0   0.0   \n",
       "1  03:30       0      0       0      0  0.32  0.32   0.3   0.3   \n",
       "\n",
       "              time_dt  \n",
       "0 1900-01-01 03:00:00  \n",
       "1 1900-01-01 03:30:00  "
      ]
     },
     "execution_count": 6,
     "metadata": {},
     "output_type": "execute_result"
    }
   ],
   "source": [
    "#Заменим нет рейсов на 0\n",
    "df_timetable.loc[df_timetable[\"delayf\"] == \"нет рейсов\", \"delayf\"] = 0\n",
    "df_timetable.loc[df_timetable[\"delayb\"] == \"нет рейсов\", \"delayb\"] = 0\n",
    "df_timetable.head(2)"
   ]
  },
  {
   "cell_type": "markdown",
   "id": "d1dd762b",
   "metadata": {},
   "source": [
    "### MainTest\n"
   ]
  },
  {
   "cell_type": "markdown",
   "id": "a0b9ecc7",
   "metadata": {},
   "source": [
    "#### Функции:\n"
   ]
  },
  {
   "cell_type": "code",
   "execution_count": 33,
   "id": "2184fadd",
   "metadata": {},
   "outputs": [],
   "source": [
    "def addToTT(bus, countbus, dictt, ntime, minute, second, direction):\n",
    "    stoptime = ntime + pd.Timedelta(minutes = minute, seconds = second)\n",
    "    if stoptime.day == 2:\n",
    "            stoptime -= pd.Timedelta(days = 1)\n",
    "    st = Station(ntime, stoptime, direction)\n",
    "    dictt[bus.busID].append(st)\n",
    "    if direction != \"нулевой пробег\":\n",
    "        bus.change_free()\n",
    "    lastsendf = ntime\n",
    "    countbus += 1\n",
    "    return countbus, lastsendf\n",
    "\n",
    "\n",
    "def changePhase(ntime, df_timetable):\n",
    "    row = df_timetable.loc[df_timetable[\"time_dt\"] == ntime]\n",
    "    cbf = int(row[\"countf\"])\n",
    "    cbb = int(row[\"countb\"])\n",
    "    delf = int(row[\"delayf\"])\n",
    "    delb = int(row[\"delayb\"])\n",
    "    nextidx = row.index.to_list()[0]+1\n",
    "    if nextidx >= df_timetable.shape[0]:\n",
    "        nextidx = df_timetable.shape[0]-1\n",
    "    return cbf, cbb, delf, delb, nextidx\n",
    "\n",
    "def changeNextPhase(index, df_timetable):\n",
    "    row = df_timetable.loc[index]\n",
    "    time = row[\"time_dt\"]\n",
    "    cbf = int(row[\"countf\"])\n",
    "    cbb = int(row[\"countb\"])\n",
    "    nextdel = int(row[\"delayf\"])\n",
    "    \n",
    "    return cbf, cbb, nextdel\n",
    "    \n",
    "    \n",
    "def addLast(dictt, addtime):\n",
    "    for key in dictt.keys():\n",
    "        lastend = dictt[key][-1].timestop\n",
    "        start = lastend + pd.Timedelta(minutes=5)\n",
    "        end = start + pd.Timedelta(minutes=addtime)\n",
    "        st = Station(start, end, \"нулевой пробег\")\n",
    "        dictt[key].append(st)\n",
    "        \n",
    "        \n",
    "        \n",
    "    "
   ]
  },
  {
   "cell_type": "code",
   "execution_count": 34,
   "id": "8ed155ab",
   "metadata": {},
   "outputs": [
    {
     "name": "stdout",
     "output_type": "stream",
     "text": [
      "30 0 30 0\n"
     ]
    }
   ],
   "source": [
    "# Расчитаем среднее время проезда в обоих направлениях\n",
    "#Средняя скорость автобуса 19 км/ч\n",
    "avetimef = round(6.48/19*60, 2)\n",
    "avetimeb = 5.63/19*60\n",
    "avtfm = avetimef // 1\n",
    "# avtfs = avetimef % 1 * 60  // 1\n",
    "avtbm = avetimeb // 1\n",
    "# avtbs = avetimeb % 1 * 60  // 1\n",
    "avtfs = 0\n",
    "avtbs = 0\n",
    "\n",
    "avtfm = 30\n",
    "avtbm = 30\n",
    "print(avtfm, avtfs, avtbm, avtbs)\n",
    "\n",
    "mintofirst = 25"
   ]
  },
  {
   "cell_type": "code",
   "execution_count": 35,
   "id": "4aff224d",
   "metadata": {},
   "outputs": [
    {
     "name": "stdout",
     "output_type": "stream",
     "text": [
      "{1: [], 2: [], 3: [], 4: [], 5: [], 6: [], 7: [], 8: []}\n"
     ]
    }
   ],
   "source": [
    "dirtt = {} #словарь со списками точек входа/выхода для каждого автобуса\n",
    "\n",
    "buspark = [] #парк автобусов\n",
    "for i in range(8):\n",
    "    buspark.append(Bus(i+1))\n",
    "    dirtt[i+1] = []\n",
    "print(dirtt)"
   ]
  },
  {
   "cell_type": "code",
   "execution_count": 36,
   "id": "6d8e1ce0",
   "metadata": {},
   "outputs": [],
   "source": [
    "ftime = pd.to_datetime(df_timetable[\"time\"][0], format= \"%H:%M\")\n",
    "\n",
    "busline = 0\n",
    "\n",
    "\n",
    "busonline = []\n",
    "\n",
    "\n",
    "\n",
    "\n",
    "nowbusf = 0\n",
    "nowbusb = 0\n",
    "\n",
    "lastsendf = pd.to_datetime(\"0:0\", format= \"%H:%M\")\n",
    "lastsendb = pd.to_datetime(\"0:0\", format= \"%H:%M\")\n",
    "lastfirst = pd.to_datetime(\"0:0\", format= \"%H:%M\")\n",
    "for i in range(24):\n",
    "    for j in range(0, 60, 3):\n",
    "        #нынешнее время\n",
    "        ntime = ftime + pd.Timedelta(hours = i, minutes=j)\n",
    "        if ntime.day == 2:\n",
    "            ntime -= pd.Timedelta(days = 1)\n",
    "            \n",
    "        #смена фазы\n",
    "        if df_timetable[\"time_dt\"].isin([ntime]).any():\n",
    "            cbf, cbb, delf, delb, nextidx = changePhase(ntime, df_timetable)\n",
    "        \n",
    "        #время в минутах после последней отправки\n",
    "        deltasendf = (ntime - lastsendf).seconds/60\n",
    "        deltasendb = (ntime - lastsendb).seconds/60\n",
    "        deltafirst = (ntime - lastfirst).seconds/60\n",
    "        \n",
    "        ncbf, ncbb, nextdel = changeNextPhase(nextidx, df_timetable)\n",
    "        #нулевой пробег\n",
    "        if busline < ncbf+ncbb:\n",
    "            for j in buspark:\n",
    "                deltafirst = (ntime - lastfirst).seconds/60\n",
    "                if (deltafirst - nextdel) >= 0 and not(j.first):\n",
    "                    busline, lastfirst = addToTT(j, busline, dirtt, ntime, mintofirst, 0, \"нулевой пробег\")\n",
    "                    j.first_start()\n",
    "                if busline >= ncbf+ncbb:\n",
    "                    break\n",
    "                \n",
    "            \n",
    "            \n",
    "            \n",
    "            \n",
    "        \n",
    "        \n",
    "        #вычет\n",
    "        if (nowbusf + nowbusb) != 0:\n",
    "            for j in buspark:\n",
    "                if not(j.free):\n",
    "                    if dirtt[j.busID][-1].timestop < ntime:\n",
    "                        j.change_free()\n",
    "                        if j.direction:\n",
    "                            nowbusf -= 1\n",
    "\n",
    "                        else: \n",
    "                            nowbusb -= 1 \n",
    "                        j.change_dir()\n",
    "        #добавление\n",
    "        if (nowbusf + nowbusb) < (cbf + cbb) :\n",
    "            #переделать в отдельную функцию\n",
    "            for j in buspark:\n",
    "                deltasendf = (ntime - lastsendf).seconds/60\n",
    "                deltasendb = (ntime - lastsendb).seconds/60\n",
    "                if j.free:\n",
    "                    if nowbusf != cbf and j.direction and (deltasendf - delf) >= 0:\n",
    "                        nowbusf, lastsendf = addToTT(j, nowbusf, dirtt, ntime, avtfm, avtfs, True)\n",
    "\n",
    "                    elif nowbusb != cbb and not(j.direction) and (deltasendb - delb) >= 0:\n",
    "                        nowbusb, lastsendb = addToTT(j, nowbusb, dirtt, ntime, avtbm, avtbs, False)\n",
    "        \n",
    "                \n",
    "            \n",
    "#         print(ntime, nowbusf, nowbusb, cbf, cbb, deltasendf, deltasendb, delf, delb)\n",
    "                        \n",
    "addLast(dirtt, mintofirst)\n",
    "            \n",
    "\n",
    "                    \n",
    "\n",
    "                        \n",
    "            \n",
    "            \n",
    "            \n",
    "\n",
    "            "
   ]
  },
  {
   "cell_type": "code",
   "execution_count": 37,
   "id": "3335fa9d",
   "metadata": {},
   "outputs": [],
   "source": [
    "test2 = {}\n",
    "for k,v in dirtt.items():\n",
    "    test2[k] = []\n",
    "    for i in dirtt[k]:\n",
    "        test2[k].append(i.print_info())\n",
    "#         print(k, *i.print_info())\n"
   ]
  },
  {
   "cell_type": "code",
   "execution_count": 38,
   "id": "c62333e4",
   "metadata": {},
   "outputs": [
    {
     "data": {
      "text/html": [
       "<div>\n",
       "<style scoped>\n",
       "    .dataframe tbody tr th:only-of-type {\n",
       "        vertical-align: middle;\n",
       "    }\n",
       "\n",
       "    .dataframe tbody tr th {\n",
       "        vertical-align: top;\n",
       "    }\n",
       "\n",
       "    .dataframe thead th {\n",
       "        text-align: right;\n",
       "    }\n",
       "</style>\n",
       "<table border=\"1\" class=\"dataframe\">\n",
       "  <thead>\n",
       "    <tr style=\"text-align: right;\">\n",
       "      <th></th>\n",
       "      <th>busID</th>\n",
       "      <th>TimeStart</th>\n",
       "      <th>TimeStop</th>\n",
       "      <th>Direction</th>\n",
       "    </tr>\n",
       "  </thead>\n",
       "  <tbody>\n",
       "    <tr>\n",
       "      <th>0</th>\n",
       "      <td>1</td>\n",
       "      <td>04:30:00</td>\n",
       "      <td>04:55:00</td>\n",
       "      <td>нулевой пробег</td>\n",
       "    </tr>\n",
       "    <tr>\n",
       "      <th>1</th>\n",
       "      <td>1</td>\n",
       "      <td>05:00:00</td>\n",
       "      <td>05:30:00</td>\n",
       "      <td>True</td>\n",
       "    </tr>\n",
       "    <tr>\n",
       "      <th>2</th>\n",
       "      <td>1</td>\n",
       "      <td>05:33:00</td>\n",
       "      <td>06:03:00</td>\n",
       "      <td>False</td>\n",
       "    </tr>\n",
       "    <tr>\n",
       "      <th>3</th>\n",
       "      <td>1</td>\n",
       "      <td>06:09:00</td>\n",
       "      <td>06:39:00</td>\n",
       "      <td>True</td>\n",
       "    </tr>\n",
       "    <tr>\n",
       "      <th>4</th>\n",
       "      <td>1</td>\n",
       "      <td>06:42:00</td>\n",
       "      <td>07:12:00</td>\n",
       "      <td>False</td>\n",
       "    </tr>\n",
       "  </tbody>\n",
       "</table>\n",
       "</div>"
      ],
      "text/plain": [
       "  busID TimeStart  TimeStop       Direction\n",
       "0     1  04:30:00  04:55:00  нулевой пробег\n",
       "1     1  05:00:00  05:30:00            True\n",
       "2     1  05:33:00  06:03:00           False\n",
       "3     1  06:09:00  06:39:00            True\n",
       "4     1  06:42:00  07:12:00           False"
      ]
     },
     "execution_count": 38,
     "metadata": {},
     "output_type": "execute_result"
    }
   ],
   "source": [
    "df2 = pd.DataFrame(columns=['busID', 'TimeStart', 'TimeStop','Direction'])\n",
    "for k,v in dirtt.items():\n",
    "    for i in dirtt[k]:\n",
    "        info = i.print_info()\n",
    "        new_row = [[k, info[0],info[1],info[2]]]\n",
    "        df2 = pd.concat([df2, pd.DataFrame(new_row, columns=df2.columns)], ignore_index=True)\n",
    "        \n",
    "df2.head(5)\n"
   ]
  },
  {
   "cell_type": "code",
   "execution_count": 39,
   "id": "8ffb2818",
   "metadata": {},
   "outputs": [],
   "source": [
    "df2.to_excel('test11.xlsx')"
   ]
  },
  {
   "cell_type": "code",
   "execution_count": null,
   "id": "d70c1957",
   "metadata": {},
   "outputs": [],
   "source": []
  }
 ],
 "metadata": {
  "kernelspec": {
   "display_name": "Python 3 (ipykernel)",
   "language": "python",
   "name": "python3"
  },
  "language_info": {
   "codemirror_mode": {
    "name": "ipython",
    "version": 3
   },
   "file_extension": ".py",
   "mimetype": "text/x-python",
   "name": "python",
   "nbconvert_exporter": "python",
   "pygments_lexer": "ipython3",
   "version": "3.9.13"
  }
 },
 "nbformat": 4,
 "nbformat_minor": 5
}
